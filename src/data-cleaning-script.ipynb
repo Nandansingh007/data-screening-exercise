{
 "cells": [
  {
   "cell_type": "markdown",
   "metadata": {},
   "source": [
    "### Getting Idea About the data"
   ]
  },
  {
   "cell_type": "code",
   "execution_count": null,
   "metadata": {},
   "outputs": [],
   "source": [
    "# Importing Necessary Libraries\n",
    "import pandas as pd\n",
    "import re\n",
    "from collections import Counter\n",
    "import numpy as np\n",
    "from geopy.geocoders import Nominatim\n",
    "from geopy.extra.rate_limiter import RateLimiter\n",
    "import time"
   ]
  },
  {
   "cell_type": "code",
   "execution_count": 33,
   "metadata": {},
   "outputs": [
    {
     "name": "stdout",
     "output_type": "stream",
     "text": [
      "Rows: 140, Columns: 8\n"
     ]
    },
    {
     "data": {
      "text/html": [
       "<div>\n",
       "<style scoped>\n",
       "    .dataframe tbody tr th:only-of-type {\n",
       "        vertical-align: middle;\n",
       "    }\n",
       "\n",
       "    .dataframe tbody tr th {\n",
       "        vertical-align: top;\n",
       "    }\n",
       "\n",
       "    .dataframe thead th {\n",
       "        text-align: right;\n",
       "    }\n",
       "</style>\n",
       "<table border=\"1\" class=\"dataframe\">\n",
       "  <thead>\n",
       "    <tr style=\"text-align: right;\">\n",
       "      <th></th>\n",
       "      <th></th>\n",
       "      <th>Unnamed: 1</th>\n",
       "      <th>Unnamed: 2</th>\n",
       "      <th>Unnamed: 3</th>\n",
       "      <th>Unnamed: 4</th>\n",
       "      <th>Unnamed: 5</th>\n",
       "      <th>Unnamed: 6</th>\n",
       "      <th>Unnamed: 7</th>\n",
       "    </tr>\n",
       "  </thead>\n",
       "  <tbody>\n",
       "    <tr>\n",
       "      <th>0</th>\n",
       "      <td>These statistics are made available to the pub...</td>\n",
       "      <td>NaN</td>\n",
       "      <td>NaN</td>\n",
       "      <td>NaN</td>\n",
       "      <td>NaN</td>\n",
       "      <td>NaN</td>\n",
       "      <td>NaN</td>\n",
       "      <td>NaN</td>\n",
       "    </tr>\n",
       "    <tr>\n",
       "      <th>1</th>\n",
       "      <td>ICE FACILITIES DATA, FY25</td>\n",
       "      <td>NaN</td>\n",
       "      <td>NaN</td>\n",
       "      <td>NaN</td>\n",
       "      <td>NaN</td>\n",
       "      <td>NaN</td>\n",
       "      <td>NaN</td>\n",
       "      <td>NaN</td>\n",
       "    </tr>\n",
       "    <tr>\n",
       "      <th>2</th>\n",
       "      <td>ICE Enforcement and Removal Operations Data, F...</td>\n",
       "      <td>NaN</td>\n",
       "      <td>NaN</td>\n",
       "      <td>NaN</td>\n",
       "      <td>NaN</td>\n",
       "      <td>NaN</td>\n",
       "      <td>NaN</td>\n",
       "      <td>NaN</td>\n",
       "    </tr>\n",
       "    <tr>\n",
       "      <th>3</th>\n",
       "      <td>This list is limited to facilities that have a...</td>\n",
       "      <td>NaN</td>\n",
       "      <td>NaN</td>\n",
       "      <td>NaN</td>\n",
       "      <td>NaN</td>\n",
       "      <td>NaN</td>\n",
       "      <td>NaN</td>\n",
       "      <td>NaN</td>\n",
       "    </tr>\n",
       "    <tr>\n",
       "      <th>4</th>\n",
       "      <td>Data Source: ICE Integrated Decision Support (...</td>\n",
       "      <td>NaN</td>\n",
       "      <td>NaN</td>\n",
       "      <td>NaN</td>\n",
       "      <td>NaN</td>\n",
       "      <td>NaN</td>\n",
       "      <td>NaN</td>\n",
       "      <td>NaN</td>\n",
       "    </tr>\n",
       "    <tr>\n",
       "      <th>5</th>\n",
       "      <td>Name</td>\n",
       "      <td>City</td>\n",
       "      <td>State</td>\n",
       "      <td>Level A</td>\n",
       "      <td>Level B</td>\n",
       "      <td>Level C</td>\n",
       "      <td>Level D</td>\n",
       "      <td>Last Inspection End Date</td>\n",
       "    </tr>\n",
       "    <tr>\n",
       "      <th>6</th>\n",
       "      <td>ADAMS COUNTY DET CENTER</td>\n",
       "      <td>NATCHEZ</td>\n",
       "      <td>MS</td>\n",
       "      <td>1876.461078</td>\n",
       "      <td>266.4311377</td>\n",
       "      <td>6.724550898</td>\n",
       "      <td>4.25748503</td>\n",
       "      <td>45673</td>\n",
       "    </tr>\n",
       "    <tr>\n",
       "      <th>7</th>\n",
       "      <td>ADELANTO ICE PROCESSING CENTER</td>\n",
       "      <td>ADELANTO</td>\n",
       "      <td>CA</td>\n",
       "      <td>6.401197605</td>\n",
       "      <td>4.323353293</td>\n",
       "      <td>22.60479042</td>\n",
       "      <td>32.63473054</td>\n",
       "      <td>45491</td>\n",
       "    </tr>\n",
       "    <tr>\n",
       "      <th>8</th>\n",
       "      <td>ALAMANCE COUNTY DETENTION FACILITY</td>\n",
       "      <td>GRAHAM</td>\n",
       "      <td>NC</td>\n",
       "      <td>4.329341317</td>\n",
       "      <td>3.461077844</td>\n",
       "      <td>6.083832335</td>\n",
       "      <td>6.185628743</td>\n",
       "      <td>45554</td>\n",
       "    </tr>\n",
       "    <tr>\n",
       "      <th>9</th>\n",
       "      <td>ALEXA$NDRIA STAGING FACILITY</td>\n",
       "      <td>ALEXANDRIA</td>\n",
       "      <td>LA</td>\n",
       "      <td>137.5209581</td>\n",
       "      <td>47.41317365</td>\n",
       "      <td>76.00598802</td>\n",
       "      <td>52.48502994</td>\n",
       "      <td>45533</td>\n",
       "    </tr>\n",
       "  </tbody>\n",
       "</table>\n",
       "</div>"
      ],
      "text/plain": [
       "                                                      Unnamed: 1 Unnamed: 2  \\\n",
       "0  These statistics are made available to the pub...         NaN        NaN   \n",
       "1                          ICE FACILITIES DATA, FY25         NaN        NaN   \n",
       "2  ICE Enforcement and Removal Operations Data, F...         NaN        NaN   \n",
       "3  This list is limited to facilities that have a...         NaN        NaN   \n",
       "4  Data Source: ICE Integrated Decision Support (...         NaN        NaN   \n",
       "5                                               Name        City      State   \n",
       "6                            ADAMS COUNTY DET CENTER     NATCHEZ         MS   \n",
       "7                     ADELANTO ICE PROCESSING CENTER    ADELANTO         CA   \n",
       "8                 ALAMANCE COUNTY DETENTION FACILITY      GRAHAM         NC   \n",
       "9                       ALEXA$NDRIA STAGING FACILITY  ALEXANDRIA         LA   \n",
       "\n",
       "    Unnamed: 3   Unnamed: 4   Unnamed: 5   Unnamed: 6  \\\n",
       "0          NaN          NaN          NaN          NaN   \n",
       "1          NaN          NaN          NaN          NaN   \n",
       "2          NaN          NaN          NaN          NaN   \n",
       "3          NaN          NaN          NaN          NaN   \n",
       "4          NaN          NaN          NaN          NaN   \n",
       "5      Level A      Level B      Level C      Level D   \n",
       "6  1876.461078  266.4311377  6.724550898   4.25748503   \n",
       "7  6.401197605  4.323353293  22.60479042  32.63473054   \n",
       "8  4.329341317  3.461077844  6.083832335  6.185628743   \n",
       "9  137.5209581  47.41317365  76.00598802  52.48502994   \n",
       "\n",
       "                 Unnamed: 7  \n",
       "0                       NaN  \n",
       "1                       NaN  \n",
       "2                       NaN  \n",
       "3                       NaN  \n",
       "4                       NaN  \n",
       "5  Last Inspection End Date  \n",
       "6                     45673  \n",
       "7                     45491  \n",
       "8                     45554  \n",
       "9                     45533  "
      ]
     },
     "execution_count": 33,
     "metadata": {},
     "output_type": "execute_result"
    }
   ],
   "source": [
    "# Reading data\n",
    "df = pd.read_csv('../messy_ice_detention.csv',encoding='latin-1')\n",
    "print(f\"Rows: {df.shape[0]}, Columns: {df.shape[1]}\")\n",
    "df.head(10)\n"
   ]
  },
  {
   "cell_type": "markdown",
   "metadata": {},
   "source": [
    "### Data Cleaning"
   ]
  },
  {
   "cell_type": "code",
   "execution_count": 34,
   "metadata": {},
   "outputs": [
    {
     "name": "stdout",
     "output_type": "stream",
     "text": [
      "Rows: 134, Columns: 8\n"
     ]
    },
    {
     "data": {
      "text/html": [
       "<div>\n",
       "<style scoped>\n",
       "    .dataframe tbody tr th:only-of-type {\n",
       "        vertical-align: middle;\n",
       "    }\n",
       "\n",
       "    .dataframe tbody tr th {\n",
       "        vertical-align: top;\n",
       "    }\n",
       "\n",
       "    .dataframe thead th {\n",
       "        text-align: right;\n",
       "    }\n",
       "</style>\n",
       "<table border=\"1\" class=\"dataframe\">\n",
       "  <thead>\n",
       "    <tr style=\"text-align: right;\">\n",
       "      <th></th>\n",
       "      <th>Name</th>\n",
       "      <th>City</th>\n",
       "      <th>State</th>\n",
       "      <th>Level A</th>\n",
       "      <th>Level B</th>\n",
       "      <th>Level C</th>\n",
       "      <th>Level D</th>\n",
       "      <th>Last Inspection End Date</th>\n",
       "    </tr>\n",
       "  </thead>\n",
       "  <tbody>\n",
       "    <tr>\n",
       "      <th>0</th>\n",
       "      <td>ADAMS COUNTY DET CENTER</td>\n",
       "      <td>NATCHEZ</td>\n",
       "      <td>MS</td>\n",
       "      <td>1876.461078</td>\n",
       "      <td>266.431138</td>\n",
       "      <td>6.724551</td>\n",
       "      <td>4.257485</td>\n",
       "      <td>45673</td>\n",
       "    </tr>\n",
       "    <tr>\n",
       "      <th>1</th>\n",
       "      <td>ADELANTO ICE PROCESSING CENTER</td>\n",
       "      <td>ADELANTO</td>\n",
       "      <td>CA</td>\n",
       "      <td>6.401198</td>\n",
       "      <td>4.323353</td>\n",
       "      <td>22.604790</td>\n",
       "      <td>32.634731</td>\n",
       "      <td>45491</td>\n",
       "    </tr>\n",
       "    <tr>\n",
       "      <th>2</th>\n",
       "      <td>ALAMANCE COUNTY DETENTION FACILITY</td>\n",
       "      <td>GRAHAM</td>\n",
       "      <td>NC</td>\n",
       "      <td>4.329341</td>\n",
       "      <td>3.461078</td>\n",
       "      <td>6.083832</td>\n",
       "      <td>6.185629</td>\n",
       "      <td>45554</td>\n",
       "    </tr>\n",
       "    <tr>\n",
       "      <th>3</th>\n",
       "      <td>ALEXA$NDRIA STAGING FACILITY</td>\n",
       "      <td>ALEXANDRIA</td>\n",
       "      <td>LA</td>\n",
       "      <td>137.520958</td>\n",
       "      <td>47.413174</td>\n",
       "      <td>76.005988</td>\n",
       "      <td>52.485030</td>\n",
       "      <td>45533</td>\n",
       "    </tr>\n",
       "    <tr>\n",
       "      <th>4</th>\n",
       "      <td>ALLEGANY COUNTY JAIL</td>\n",
       "      <td>BELMONT</td>\n",
       "      <td>NY</td>\n",
       "      <td>1.221557</td>\n",
       "      <td>0.018000</td>\n",
       "      <td>0.000000</td>\n",
       "      <td>0.000000</td>\n",
       "      <td>NaN</td>\n",
       "    </tr>\n",
       "    <tr>\n",
       "      <th>5</th>\n",
       "      <td>ALL%EN PARISH PUBLIC SAFETY +COMPLEX</td>\n",
       "      <td>OBERLIN</td>\n",
       "      <td>LA</td>\n",
       "      <td>101.311377</td>\n",
       "      <td>30.251497</td>\n",
       "      <td>33.766467</td>\n",
       "      <td>10.664671</td>\n",
       "      <td>45638</td>\n",
       "    </tr>\n",
       "    <tr>\n",
       "      <th>6</th>\n",
       "      <td>ATLANTA US PEN</td>\n",
       "      <td>ATLANTA</td>\n",
       "      <td></td>\n",
       "      <td>17.341317</td>\n",
       "      <td>3.610778</td>\n",
       "      <td>3.053892</td>\n",
       "      <td>2.724551</td>\n",
       "      <td>NaN</td>\n",
       "    </tr>\n",
       "    <tr>\n",
       "      <th>7</th>\n",
       "      <td>B^AKER COUNTY SHERIFF DEPT.</td>\n",
       "      <td>MACCLENNY</td>\n",
       "      <td>FL</td>\n",
       "      <td>26.221557</td>\n",
       "      <td>38.640719</td>\n",
       "      <td>88.652695</td>\n",
       "      <td>88.730539</td>\n",
       "      <td>45589</td>\n",
       "    </tr>\n",
       "    <tr>\n",
       "      <th>8</th>\n",
       "      <td>BERLIN FED. CORR. INST.</td>\n",
       "      <td>BERLIN</td>\n",
       "      <td>NH</td>\n",
       "      <td>1.748503</td>\n",
       "      <td>0.089800</td>\n",
       "      <td>0.970060</td>\n",
       "      <td>0.712575</td>\n",
       "      <td>NaN</td>\n",
       "    </tr>\n",
       "    <tr>\n",
       "      <th>9</th>\n",
       "      <td>BLUEBONNET DETENTION FACILITY</td>\n",
       "      <td>ANSON</td>\n",
       "      <td>TX</td>\n",
       "      <td>311.305389</td>\n",
       "      <td>164.550898</td>\n",
       "      <td>241.616767</td>\n",
       "      <td>104.514970</td>\n",
       "      <td>45638</td>\n",
       "    </tr>\n",
       "  </tbody>\n",
       "</table>\n",
       "</div>"
      ],
      "text/plain": [
       "                                   Name        City State      Level A  \\\n",
       "0               ADAMS COUNTY DET CENTER     NATCHEZ    MS  1876.461078   \n",
       "1        ADELANTO ICE PROCESSING CENTER    ADELANTO    CA     6.401198   \n",
       "2    ALAMANCE COUNTY DETENTION FACILITY      GRAHAM    NC     4.329341   \n",
       "3          ALEXA$NDRIA STAGING FACILITY  ALEXANDRIA    LA   137.520958   \n",
       "4                  ALLEGANY COUNTY JAIL     BELMONT    NY     1.221557   \n",
       "5  ALL%EN PARISH PUBLIC SAFETY +COMPLEX     OBERLIN    LA   101.311377   \n",
       "6                        ATLANTA US PEN     ATLANTA          17.341317   \n",
       "7           B^AKER COUNTY SHERIFF DEPT.   MACCLENNY    FL    26.221557   \n",
       "8               BERLIN FED. CORR. INST.      BERLIN    NH     1.748503   \n",
       "9         BLUEBONNET DETENTION FACILITY       ANSON    TX   311.305389   \n",
       "\n",
       "      Level B     Level C     Level D Last Inspection End Date  \n",
       "0  266.431138    6.724551    4.257485                    45673  \n",
       "1    4.323353   22.604790   32.634731                    45491  \n",
       "2    3.461078    6.083832    6.185629                    45554  \n",
       "3   47.413174   76.005988   52.485030                    45533  \n",
       "4    0.018000    0.000000    0.000000                      NaN  \n",
       "5   30.251497   33.766467   10.664671                    45638  \n",
       "6    3.610778    3.053892    2.724551                      NaN  \n",
       "7   38.640719   88.652695   88.730539                    45589  \n",
       "8    0.089800    0.970060    0.712575                      NaN  \n",
       "9  164.550898  241.616767  104.514970                    45638  "
      ]
     },
     "execution_count": 34,
     "metadata": {},
     "output_type": "execute_result"
    }
   ],
   "source": [
    "# Skipping the first few rows to only necessary data\n",
    "df = pd.read_csv(\"../messy_ice_detention.csv\", skiprows=6,encoding='latin-1')\n",
    "print(f\"Rows: {df.shape[0]}, Columns: {df.shape[1]}\")\n",
    "df.head(10)"
   ]
  },
  {
   "cell_type": "markdown",
   "metadata": {},
   "source": [
    "#### Cleaning Name Column"
   ]
  },
  {
   "cell_type": "code",
   "execution_count": 38,
   "metadata": {},
   "outputs": [
    {
     "data": {
      "text/plain": [
       "np.int64(2)"
      ]
     },
     "execution_count": 38,
     "metadata": {},
     "output_type": "execute_result"
    }
   ],
   "source": [
    "# Replace 'N/A', 'NA', and blanks with proper NaN\n",
    "df['Name'] = df['Name'].replace(\n",
    "    ['N/A', 'NA', ' ', ''], pd.NA\n",
    ")\n",
    "\n",
    "df.Name.isnull().sum()"
   ]
  },
  {
   "cell_type": "code",
   "execution_count": 39,
   "metadata": {},
   "outputs": [
    {
     "data": {
      "text/html": [
       "<div>\n",
       "<style scoped>\n",
       "    .dataframe tbody tr th:only-of-type {\n",
       "        vertical-align: middle;\n",
       "    }\n",
       "\n",
       "    .dataframe tbody tr th {\n",
       "        vertical-align: top;\n",
       "    }\n",
       "\n",
       "    .dataframe thead th {\n",
       "        text-align: right;\n",
       "    }\n",
       "</style>\n",
       "<table border=\"1\" class=\"dataframe\">\n",
       "  <thead>\n",
       "    <tr style=\"text-align: right;\">\n",
       "      <th></th>\n",
       "      <th>Name</th>\n",
       "      <th>City</th>\n",
       "      <th>State</th>\n",
       "      <th>Level A</th>\n",
       "      <th>Level B</th>\n",
       "      <th>Level C</th>\n",
       "      <th>Level D</th>\n",
       "      <th>Last Inspection End Date</th>\n",
       "    </tr>\n",
       "  </thead>\n",
       "  <tbody>\n",
       "    <tr>\n",
       "      <th>116</th>\n",
       "      <td>&lt;NA&gt;</td>\n",
       "      <td>ELK RIVER</td>\n",
       "      <td>MN</td>\n",
       "      <td>4.592814</td>\n",
       "      <td>5.598802</td>\n",
       "      <td>9.281437</td>\n",
       "      <td>2.760479</td>\n",
       "      <td>45414</td>\n",
       "    </tr>\n",
       "    <tr>\n",
       "      <th>123</th>\n",
       "      <td>&lt;NA&gt;</td>\n",
       "      <td>DOVER</td>\n",
       "      <td>NH</td>\n",
       "      <td>0.000000</td>\n",
       "      <td>0.000000</td>\n",
       "      <td>49.161677</td>\n",
       "      <td>41.335329</td>\n",
       "      <td>45547</td>\n",
       "    </tr>\n",
       "  </tbody>\n",
       "</table>\n",
       "</div>"
      ],
      "text/plain": [
       "     Name       City State   Level A   Level B    Level C    Level D  \\\n",
       "116  <NA>  ELK RIVER    MN  4.592814  5.598802   9.281437   2.760479   \n",
       "123  <NA>      DOVER    NH  0.000000  0.000000  49.161677  41.335329   \n",
       "\n",
       "    Last Inspection End Date  \n",
       "116                    45414  \n",
       "123                    45547  "
      ]
     },
     "execution_count": 39,
     "metadata": {},
     "output_type": "execute_result"
    }
   ],
   "source": [
    "# Checking null rows\n",
    "null_name_rows = df[df['Name'].isnull()]\n",
    "null_name_rows"
   ]
  },
  {
   "cell_type": "code",
   "execution_count": 40,
   "metadata": {},
   "outputs": [],
   "source": [
    "# Now remove rows where Name is null\n",
    "df = df.dropna(subset=['Name'])"
   ]
  },
  {
   "cell_type": "code",
   "execution_count": 41,
   "metadata": {},
   "outputs": [
    {
     "name": "stdout",
     "output_type": "stream",
     "text": [
      "Rows: 132, Columns: 8\n"
     ]
    }
   ],
   "source": [
    "print(f\"Rows: {df.shape[0]}, Columns: {df.shape[1]}\")"
   ]
  },
  {
   "cell_type": "code",
   "execution_count": 42,
   "metadata": {},
   "outputs": [
    {
     "name": "stdout",
     "output_type": "stream",
     "text": [
      "'$': 1 times\n",
      "'%': 2 times\n",
      "'+': 4 times\n",
      "'^': 4 times\n",
      "'.': 9 times\n",
      "'(': 12 times\n",
      "',': 2 times\n",
      "')': 14 times\n",
      "'&': 3 times\n",
      "'@': 3 times\n",
      "'#': 1 times\n",
      "'_': 1 times\n",
      "'*': 1 times\n",
      "'/': 2 times\n"
     ]
    }
   ],
   "source": [
    "## Checking Unnecessary Characters in the 'Name' Column\n",
    "all_names = ' '.join(df['Name'].dropna().astype(str))\n",
    "special_chars = re.findall(r'[^a-zA-Z0-9\\s\\-]', all_names)\n",
    "char_counts = Counter(special_chars)\n",
    "\n",
    "for char, count in char_counts.items():\n",
    "    print(f\"'{char}': {count} times\")"
   ]
  },
  {
   "cell_type": "code",
   "execution_count": 43,
   "metadata": {},
   "outputs": [
    {
     "data": {
      "text/html": [
       "<div>\n",
       "<style scoped>\n",
       "    .dataframe tbody tr th:only-of-type {\n",
       "        vertical-align: middle;\n",
       "    }\n",
       "\n",
       "    .dataframe tbody tr th {\n",
       "        vertical-align: top;\n",
       "    }\n",
       "\n",
       "    .dataframe thead th {\n",
       "        text-align: right;\n",
       "    }\n",
       "</style>\n",
       "<table border=\"1\" class=\"dataframe\">\n",
       "  <thead>\n",
       "    <tr style=\"text-align: right;\">\n",
       "      <th></th>\n",
       "      <th>Name</th>\n",
       "      <th>City</th>\n",
       "      <th>State</th>\n",
       "      <th>Level A</th>\n",
       "      <th>Level B</th>\n",
       "      <th>Level C</th>\n",
       "      <th>Level D</th>\n",
       "      <th>Last Inspection End Date</th>\n",
       "    </tr>\n",
       "  </thead>\n",
       "  <tbody>\n",
       "    <tr>\n",
       "      <th>0</th>\n",
       "      <td>ADAMS COUNTY DET CENTER</td>\n",
       "      <td>NATCHEZ</td>\n",
       "      <td>MS</td>\n",
       "      <td>1876.461078</td>\n",
       "      <td>266.431138</td>\n",
       "      <td>6.724551</td>\n",
       "      <td>4.257485</td>\n",
       "      <td>45673</td>\n",
       "    </tr>\n",
       "    <tr>\n",
       "      <th>1</th>\n",
       "      <td>ADELANTO ICE PROCESSING CENTER</td>\n",
       "      <td>ADELANTO</td>\n",
       "      <td>CA</td>\n",
       "      <td>6.401198</td>\n",
       "      <td>4.323353</td>\n",
       "      <td>22.604790</td>\n",
       "      <td>32.634731</td>\n",
       "      <td>45491</td>\n",
       "    </tr>\n",
       "    <tr>\n",
       "      <th>2</th>\n",
       "      <td>ALAMANCE COUNTY DETENTION FACILITY</td>\n",
       "      <td>GRAHAM</td>\n",
       "      <td>NC</td>\n",
       "      <td>4.329341</td>\n",
       "      <td>3.461078</td>\n",
       "      <td>6.083832</td>\n",
       "      <td>6.185629</td>\n",
       "      <td>45554</td>\n",
       "    </tr>\n",
       "    <tr>\n",
       "      <th>3</th>\n",
       "      <td>ALEXANDRIA STAGING FACILITY</td>\n",
       "      <td>ALEXANDRIA</td>\n",
       "      <td>LA</td>\n",
       "      <td>137.520958</td>\n",
       "      <td>47.413174</td>\n",
       "      <td>76.005988</td>\n",
       "      <td>52.485030</td>\n",
       "      <td>45533</td>\n",
       "    </tr>\n",
       "    <tr>\n",
       "      <th>4</th>\n",
       "      <td>ALLEGANY COUNTY JAIL</td>\n",
       "      <td>BELMONT</td>\n",
       "      <td>NY</td>\n",
       "      <td>1.221557</td>\n",
       "      <td>0.018000</td>\n",
       "      <td>0.000000</td>\n",
       "      <td>0.000000</td>\n",
       "      <td>NaN</td>\n",
       "    </tr>\n",
       "    <tr>\n",
       "      <th>5</th>\n",
       "      <td>ALLEN PARISH PUBLIC SAFETY COMPLEX</td>\n",
       "      <td>OBERLIN</td>\n",
       "      <td>LA</td>\n",
       "      <td>101.311377</td>\n",
       "      <td>30.251497</td>\n",
       "      <td>33.766467</td>\n",
       "      <td>10.664671</td>\n",
       "      <td>45638</td>\n",
       "    </tr>\n",
       "    <tr>\n",
       "      <th>6</th>\n",
       "      <td>ATLANTA US PEN</td>\n",
       "      <td>ATLANTA</td>\n",
       "      <td></td>\n",
       "      <td>17.341317</td>\n",
       "      <td>3.610778</td>\n",
       "      <td>3.053892</td>\n",
       "      <td>2.724551</td>\n",
       "      <td>NaN</td>\n",
       "    </tr>\n",
       "    <tr>\n",
       "      <th>7</th>\n",
       "      <td>BAKER COUNTY SHERIFF DEPT.</td>\n",
       "      <td>MACCLENNY</td>\n",
       "      <td>FL</td>\n",
       "      <td>26.221557</td>\n",
       "      <td>38.640719</td>\n",
       "      <td>88.652695</td>\n",
       "      <td>88.730539</td>\n",
       "      <td>45589</td>\n",
       "    </tr>\n",
       "    <tr>\n",
       "      <th>8</th>\n",
       "      <td>BERLIN FED. CORR. INST.</td>\n",
       "      <td>BERLIN</td>\n",
       "      <td>NH</td>\n",
       "      <td>1.748503</td>\n",
       "      <td>0.089800</td>\n",
       "      <td>0.970060</td>\n",
       "      <td>0.712575</td>\n",
       "      <td>NaN</td>\n",
       "    </tr>\n",
       "    <tr>\n",
       "      <th>9</th>\n",
       "      <td>BLUEBONNET DETENTION FACILITY</td>\n",
       "      <td>ANSON</td>\n",
       "      <td>TX</td>\n",
       "      <td>311.305389</td>\n",
       "      <td>164.550898</td>\n",
       "      <td>241.616767</td>\n",
       "      <td>104.514970</td>\n",
       "      <td>45638</td>\n",
       "    </tr>\n",
       "  </tbody>\n",
       "</table>\n",
       "</div>"
      ],
      "text/plain": [
       "                                 Name        City State      Level A  \\\n",
       "0             ADAMS COUNTY DET CENTER     NATCHEZ    MS  1876.461078   \n",
       "1      ADELANTO ICE PROCESSING CENTER    ADELANTO    CA     6.401198   \n",
       "2  ALAMANCE COUNTY DETENTION FACILITY      GRAHAM    NC     4.329341   \n",
       "3         ALEXANDRIA STAGING FACILITY  ALEXANDRIA    LA   137.520958   \n",
       "4                ALLEGANY COUNTY JAIL     BELMONT    NY     1.221557   \n",
       "5  ALLEN PARISH PUBLIC SAFETY COMPLEX     OBERLIN    LA   101.311377   \n",
       "6                      ATLANTA US PEN     ATLANTA          17.341317   \n",
       "7          BAKER COUNTY SHERIFF DEPT.   MACCLENNY    FL    26.221557   \n",
       "8             BERLIN FED. CORR. INST.      BERLIN    NH     1.748503   \n",
       "9       BLUEBONNET DETENTION FACILITY       ANSON    TX   311.305389   \n",
       "\n",
       "      Level B     Level C     Level D Last Inspection End Date  \n",
       "0  266.431138    6.724551    4.257485                    45673  \n",
       "1    4.323353   22.604790   32.634731                    45491  \n",
       "2    3.461078    6.083832    6.185629                    45554  \n",
       "3   47.413174   76.005988   52.485030                    45533  \n",
       "4    0.018000    0.000000    0.000000                      NaN  \n",
       "5   30.251497   33.766467   10.664671                    45638  \n",
       "6    3.610778    3.053892    2.724551                      NaN  \n",
       "7   38.640719   88.652695   88.730539                    45589  \n",
       "8    0.089800    0.970060    0.712575                      NaN  \n",
       "9  164.550898  241.616767  104.514970                    45638  "
      ]
     },
     "execution_count": 43,
     "metadata": {},
     "output_type": "execute_result"
    }
   ],
   "source": [
    "# Keep only letters, numbers, spaces, hyphens, periods, dot\n",
    "# Add the Special Character you want to keep\n",
    "df['Name'] = df['Name'].astype(str).apply(\n",
    "    lambda x: re.sub(r'[^a-zA-Z0-9\\s\\-.]', '', x)\n",
    ")\n",
    "\n",
    "# Replace multiple spaces with a single space and trim\n",
    "df['Name'] = df['Name'].str.replace(r'\\s+', ' ', regex=True).str.strip()\n",
    "df.head(10)"
   ]
  },
  {
   "cell_type": "code",
   "execution_count": 44,
   "metadata": {},
   "outputs": [
    {
     "data": {
      "text/plain": [
       "np.int64(132)"
      ]
     },
     "execution_count": 44,
     "metadata": {},
     "output_type": "execute_result"
    }
   ],
   "source": [
    "df['Name'].count()"
   ]
  },
  {
   "cell_type": "code",
   "execution_count": 45,
   "metadata": {},
   "outputs": [
    {
     "name": "stdout",
     "output_type": "stream",
     "text": [
      "Duplicate rows: 0\n"
     ]
    }
   ],
   "source": [
    "# Number of duplicate rows\n",
    "duplicate_count = df.duplicated().sum()\n",
    "print(f\"Duplicate rows: {duplicate_count}\")\n",
    "\n",
    "# Show duplicate rows (optional)\n",
    "# df[df.duplicated()]\n"
   ]
  },
  {
   "cell_type": "code",
   "execution_count": 46,
   "metadata": {},
   "outputs": [
    {
     "name": "stdout",
     "output_type": "stream",
     "text": [
      "Completely empty rows: 0\n"
     ]
    }
   ],
   "source": [
    "empty_rows = df[df.isnull().all(axis=1)]\n",
    "print(f\"Completely empty rows: {len(empty_rows)}\")"
   ]
  },
  {
   "cell_type": "code",
   "execution_count": 47,
   "metadata": {},
   "outputs": [
    {
     "name": "stdout",
     "output_type": "stream",
     "text": [
      "Null values per column:\n",
      "\n",
      "Last Inspection End Date    17\n",
      "dtype: int64\n"
     ]
    }
   ],
   "source": [
    "null_summary = df.isnull().sum()\n",
    "print(\"Null values per column:\\n\")\n",
    "print(null_summary[null_summary > 0])"
   ]
  },
  {
   "cell_type": "code",
   "execution_count": 48,
   "metadata": {},
   "outputs": [
    {
     "data": {
      "text/plain": [
       "Name                         object\n",
       "City                         object\n",
       "State                        object\n",
       "Level A                     float64\n",
       "Level B                     float64\n",
       "Level C                     float64\n",
       "Level D                     float64\n",
       "Last Inspection End Date     object\n",
       "dtype: object"
      ]
     },
     "execution_count": 48,
     "metadata": {},
     "output_type": "execute_result"
    }
   ],
   "source": [
    "df.dtypes"
   ]
  },
  {
   "cell_type": "markdown",
   "metadata": {},
   "source": [
    "#### Cleaning Date Columns"
   ]
  },
  {
   "cell_type": "code",
   "execution_count": 49,
   "metadata": {},
   "outputs": [],
   "source": [
    "# Replace 'N/A', 'NA', and blanks with proper NaN\n",
    "df['Last Inspection End Date'] = df['Last Inspection End Date'].replace(\n",
    "    ['N/A', 'NA', ' ', ''], pd.NA\n",
    ")\n"
   ]
  },
  {
   "cell_type": "code",
   "execution_count": null,
   "metadata": {},
   "outputs": [],
   "source": [
    "# changing the value to the numeric value\n",
    "df['Last Inspection End Date'] = pd.to_numeric(\n",
    "    df['Last Inspection End Date'],\n",
    "    errors='coerce'\n",
    ")"
   ]
  },
  {
   "cell_type": "code",
   "execution_count": 51,
   "metadata": {},
   "outputs": [],
   "source": [
    "# Convert numeric Excel date to datetime, ignoring NaNs\n",
    "df['Last Inspection End Date'] = pd.to_datetime(\n",
    "    df['Last Inspection End Date'],\n",
    "    origin='1899-12-30',\n",
    "    unit='D',\n",
    "    errors='coerce'\n",
    ")\n"
   ]
  },
  {
   "cell_type": "code",
   "execution_count": 52,
   "metadata": {},
   "outputs": [
    {
     "name": "stdout",
     "output_type": "stream",
     "text": [
      "0   2025-01-16\n",
      "1   2024-07-18\n",
      "2   2024-09-19\n",
      "3   2024-08-29\n",
      "4          NaT\n",
      "Name: Last Inspection End Date, dtype: datetime64[ns]\n",
      "datetime64[ns]\n"
     ]
    }
   ],
   "source": [
    "print(df['Last Inspection End Date'].head())\n",
    "print(df['Last Inspection End Date'].dtype)\n"
   ]
  },
  {
   "cell_type": "code",
   "execution_count": 53,
   "metadata": {},
   "outputs": [
    {
     "data": {
      "text/html": [
       "<div>\n",
       "<style scoped>\n",
       "    .dataframe tbody tr th:only-of-type {\n",
       "        vertical-align: middle;\n",
       "    }\n",
       "\n",
       "    .dataframe tbody tr th {\n",
       "        vertical-align: top;\n",
       "    }\n",
       "\n",
       "    .dataframe thead th {\n",
       "        text-align: right;\n",
       "    }\n",
       "</style>\n",
       "<table border=\"1\" class=\"dataframe\">\n",
       "  <thead>\n",
       "    <tr style=\"text-align: right;\">\n",
       "      <th></th>\n",
       "      <th>Name</th>\n",
       "      <th>City</th>\n",
       "      <th>State</th>\n",
       "      <th>Level A</th>\n",
       "      <th>Level B</th>\n",
       "      <th>Level C</th>\n",
       "      <th>Level D</th>\n",
       "      <th>Last Inspection End Date</th>\n",
       "    </tr>\n",
       "  </thead>\n",
       "  <tbody>\n",
       "    <tr>\n",
       "      <th>0</th>\n",
       "      <td>ADAMS COUNTY DET CENTER</td>\n",
       "      <td>NATCHEZ</td>\n",
       "      <td>MS</td>\n",
       "      <td>1876.461078</td>\n",
       "      <td>266.431138</td>\n",
       "      <td>6.724551</td>\n",
       "      <td>4.257485</td>\n",
       "      <td>2025-01-16</td>\n",
       "    </tr>\n",
       "    <tr>\n",
       "      <th>1</th>\n",
       "      <td>ADELANTO ICE PROCESSING CENTER</td>\n",
       "      <td>ADELANTO</td>\n",
       "      <td>CA</td>\n",
       "      <td>6.401198</td>\n",
       "      <td>4.323353</td>\n",
       "      <td>22.604790</td>\n",
       "      <td>32.634731</td>\n",
       "      <td>2024-07-18</td>\n",
       "    </tr>\n",
       "    <tr>\n",
       "      <th>2</th>\n",
       "      <td>ALAMANCE COUNTY DETENTION FACILITY</td>\n",
       "      <td>GRAHAM</td>\n",
       "      <td>NC</td>\n",
       "      <td>4.329341</td>\n",
       "      <td>3.461078</td>\n",
       "      <td>6.083832</td>\n",
       "      <td>6.185629</td>\n",
       "      <td>2024-09-19</td>\n",
       "    </tr>\n",
       "    <tr>\n",
       "      <th>3</th>\n",
       "      <td>ALEXANDRIA STAGING FACILITY</td>\n",
       "      <td>ALEXANDRIA</td>\n",
       "      <td>LA</td>\n",
       "      <td>137.520958</td>\n",
       "      <td>47.413174</td>\n",
       "      <td>76.005988</td>\n",
       "      <td>52.485030</td>\n",
       "      <td>2024-08-29</td>\n",
       "    </tr>\n",
       "    <tr>\n",
       "      <th>4</th>\n",
       "      <td>ALLEGANY COUNTY JAIL</td>\n",
       "      <td>BELMONT</td>\n",
       "      <td>NY</td>\n",
       "      <td>1.221557</td>\n",
       "      <td>0.018000</td>\n",
       "      <td>0.000000</td>\n",
       "      <td>0.000000</td>\n",
       "      <td>NaT</td>\n",
       "    </tr>\n",
       "    <tr>\n",
       "      <th>5</th>\n",
       "      <td>ALLEN PARISH PUBLIC SAFETY COMPLEX</td>\n",
       "      <td>OBERLIN</td>\n",
       "      <td>LA</td>\n",
       "      <td>101.311377</td>\n",
       "      <td>30.251497</td>\n",
       "      <td>33.766467</td>\n",
       "      <td>10.664671</td>\n",
       "      <td>2024-12-12</td>\n",
       "    </tr>\n",
       "    <tr>\n",
       "      <th>6</th>\n",
       "      <td>ATLANTA US PEN</td>\n",
       "      <td>ATLANTA</td>\n",
       "      <td></td>\n",
       "      <td>17.341317</td>\n",
       "      <td>3.610778</td>\n",
       "      <td>3.053892</td>\n",
       "      <td>2.724551</td>\n",
       "      <td>NaT</td>\n",
       "    </tr>\n",
       "    <tr>\n",
       "      <th>7</th>\n",
       "      <td>BAKER COUNTY SHERIFF DEPT.</td>\n",
       "      <td>MACCLENNY</td>\n",
       "      <td>FL</td>\n",
       "      <td>26.221557</td>\n",
       "      <td>38.640719</td>\n",
       "      <td>88.652695</td>\n",
       "      <td>88.730539</td>\n",
       "      <td>2024-10-24</td>\n",
       "    </tr>\n",
       "    <tr>\n",
       "      <th>8</th>\n",
       "      <td>BERLIN FED. CORR. INST.</td>\n",
       "      <td>BERLIN</td>\n",
       "      <td>NH</td>\n",
       "      <td>1.748503</td>\n",
       "      <td>0.089800</td>\n",
       "      <td>0.970060</td>\n",
       "      <td>0.712575</td>\n",
       "      <td>NaT</td>\n",
       "    </tr>\n",
       "    <tr>\n",
       "      <th>9</th>\n",
       "      <td>BLUEBONNET DETENTION FACILITY</td>\n",
       "      <td>ANSON</td>\n",
       "      <td>TX</td>\n",
       "      <td>311.305389</td>\n",
       "      <td>164.550898</td>\n",
       "      <td>241.616767</td>\n",
       "      <td>104.514970</td>\n",
       "      <td>2024-12-12</td>\n",
       "    </tr>\n",
       "  </tbody>\n",
       "</table>\n",
       "</div>"
      ],
      "text/plain": [
       "                                 Name        City State      Level A  \\\n",
       "0             ADAMS COUNTY DET CENTER     NATCHEZ    MS  1876.461078   \n",
       "1      ADELANTO ICE PROCESSING CENTER    ADELANTO    CA     6.401198   \n",
       "2  ALAMANCE COUNTY DETENTION FACILITY      GRAHAM    NC     4.329341   \n",
       "3         ALEXANDRIA STAGING FACILITY  ALEXANDRIA    LA   137.520958   \n",
       "4                ALLEGANY COUNTY JAIL     BELMONT    NY     1.221557   \n",
       "5  ALLEN PARISH PUBLIC SAFETY COMPLEX     OBERLIN    LA   101.311377   \n",
       "6                      ATLANTA US PEN     ATLANTA          17.341317   \n",
       "7          BAKER COUNTY SHERIFF DEPT.   MACCLENNY    FL    26.221557   \n",
       "8             BERLIN FED. CORR. INST.      BERLIN    NH     1.748503   \n",
       "9       BLUEBONNET DETENTION FACILITY       ANSON    TX   311.305389   \n",
       "\n",
       "      Level B     Level C     Level D Last Inspection End Date  \n",
       "0  266.431138    6.724551    4.257485               2025-01-16  \n",
       "1    4.323353   22.604790   32.634731               2024-07-18  \n",
       "2    3.461078    6.083832    6.185629               2024-09-19  \n",
       "3   47.413174   76.005988   52.485030               2024-08-29  \n",
       "4    0.018000    0.000000    0.000000                      NaT  \n",
       "5   30.251497   33.766467   10.664671               2024-12-12  \n",
       "6    3.610778    3.053892    2.724551                      NaT  \n",
       "7   38.640719   88.652695   88.730539               2024-10-24  \n",
       "8    0.089800    0.970060    0.712575                      NaT  \n",
       "9  164.550898  241.616767  104.514970               2024-12-12  "
      ]
     },
     "execution_count": 53,
     "metadata": {},
     "output_type": "execute_result"
    }
   ],
   "source": [
    "df.head(10)"
   ]
  },
  {
   "cell_type": "markdown",
   "metadata": {},
   "source": [
    "#### Cleaning the State Column"
   ]
  },
  {
   "cell_type": "code",
   "execution_count": 54,
   "metadata": {},
   "outputs": [],
   "source": [
    "# Replace 'N/A', 'NA', and blanks with proper NaN\n",
    "df['State'] = df['State'].replace(\n",
    "    ['N/A', 'NA', ' ', ''], np.nan\n",
    ")"
   ]
  },
  {
   "cell_type": "code",
   "execution_count": 55,
   "metadata": {},
   "outputs": [
    {
     "data": {
      "text/plain": [
       "np.int64(2)"
      ]
     },
     "execution_count": 55,
     "metadata": {},
     "output_type": "execute_result"
    }
   ],
   "source": [
    "#Checking null values\n",
    "df['State'].isnull().sum()"
   ]
  },
  {
   "cell_type": "code",
   "execution_count": 56,
   "metadata": {},
   "outputs": [
    {
     "data": {
      "text/html": [
       "<div>\n",
       "<style scoped>\n",
       "    .dataframe tbody tr th:only-of-type {\n",
       "        vertical-align: middle;\n",
       "    }\n",
       "\n",
       "    .dataframe tbody tr th {\n",
       "        vertical-align: top;\n",
       "    }\n",
       "\n",
       "    .dataframe thead th {\n",
       "        text-align: right;\n",
       "    }\n",
       "</style>\n",
       "<table border=\"1\" class=\"dataframe\">\n",
       "  <thead>\n",
       "    <tr style=\"text-align: right;\">\n",
       "      <th></th>\n",
       "      <th>Name</th>\n",
       "      <th>City</th>\n",
       "      <th>State</th>\n",
       "      <th>Level A</th>\n",
       "      <th>Level B</th>\n",
       "      <th>Level C</th>\n",
       "      <th>Level D</th>\n",
       "      <th>Last Inspection End Date</th>\n",
       "    </tr>\n",
       "  </thead>\n",
       "  <tbody>\n",
       "    <tr>\n",
       "      <th>6</th>\n",
       "      <td>ATLANTA US PEN</td>\n",
       "      <td>ATLANTA</td>\n",
       "      <td>NaN</td>\n",
       "      <td>17.341317</td>\n",
       "      <td>3.610778</td>\n",
       "      <td>3.053892</td>\n",
       "      <td>2.724551</td>\n",
       "      <td>NaT</td>\n",
       "    </tr>\n",
       "    <tr>\n",
       "      <th>71</th>\n",
       "      <td>LA SALLE COUNTY REGIONAL DETENTION CENTER</td>\n",
       "      <td>ENCINAL</td>\n",
       "      <td>NaN</td>\n",
       "      <td>8.910180</td>\n",
       "      <td>0.706587</td>\n",
       "      <td>0.000000</td>\n",
       "      <td>0.071900</td>\n",
       "      <td>2025-02-07</td>\n",
       "    </tr>\n",
       "  </tbody>\n",
       "</table>\n",
       "</div>"
      ],
      "text/plain": [
       "                                         Name     City State    Level A  \\\n",
       "6                              ATLANTA US PEN  ATLANTA   NaN  17.341317   \n",
       "71  LA SALLE COUNTY REGIONAL DETENTION CENTER  ENCINAL   NaN   8.910180   \n",
       "\n",
       "     Level B   Level C   Level D Last Inspection End Date  \n",
       "6   3.610778  3.053892  2.724551                      NaT  \n",
       "71  0.706587  0.000000  0.071900               2025-02-07  "
      ]
     },
     "execution_count": 56,
     "metadata": {},
     "output_type": "execute_result"
    }
   ],
   "source": [
    "# Checking null rows\n",
    "null_state_rows = df[df['State'].isnull()]\n",
    "null_state_rows"
   ]
  },
  {
   "cell_type": "markdown",
   "metadata": {},
   "source": [
    "##### Finding the state using the city Name"
   ]
  },
  {
   "cell_type": "code",
   "execution_count": 57,
   "metadata": {},
   "outputs": [],
   "source": [
    "# Initialize geocoder\n",
    "geolocator = Nominatim(user_agent=\"city_to_state_filler\")\n",
    "geocode = RateLimiter(geolocator.geocode, min_delay_seconds=1)\n",
    "\n",
    "\n",
    "\n",
    "# Function to get state from city name\n",
    "def get_state_from_city(city_name):\n",
    "    try:\n",
    "        location = geocode(city_name)\n",
    "        full_address = location.address\n",
    "\n",
    "        parts = full_address.split(',')\n",
    "        state = parts[2]\n",
    "        state\n",
    "        \n",
    "        return state\n",
    "    except:\n",
    "        pass\n",
    "    return np.nan"
   ]
  },
  {
   "cell_type": "code",
   "execution_count": 58,
   "metadata": {},
   "outputs": [
    {
     "name": "stderr",
     "output_type": "stream",
     "text": [
      "RateLimiter caught an error, retrying (0/2 tries). Called with (*('ATLANTA',), **{}).\n",
      "Traceback (most recent call last):\n",
      "  File \"C:\\Users\\Lenovo\\AppData\\Local\\Programs\\Python\\Python311\\Lib\\urllib\\request.py\", line 1348, in do_open\n",
      "    h.request(req.get_method(), req.selector, req.data, headers,\n",
      "  File \"C:\\Users\\Lenovo\\AppData\\Local\\Programs\\Python\\Python311\\Lib\\http\\client.py\", line 1298, in request\n",
      "    self._send_request(method, url, body, headers, encode_chunked)\n",
      "  File \"C:\\Users\\Lenovo\\AppData\\Local\\Programs\\Python\\Python311\\Lib\\http\\client.py\", line 1344, in _send_request\n",
      "    self.endheaders(body, encode_chunked=encode_chunked)\n",
      "  File \"C:\\Users\\Lenovo\\AppData\\Local\\Programs\\Python\\Python311\\Lib\\http\\client.py\", line 1293, in endheaders\n",
      "    self._send_output(message_body, encode_chunked=encode_chunked)\n",
      "  File \"C:\\Users\\Lenovo\\AppData\\Local\\Programs\\Python\\Python311\\Lib\\http\\client.py\", line 1052, in _send_output\n",
      "    self.send(msg)\n",
      "  File \"C:\\Users\\Lenovo\\AppData\\Local\\Programs\\Python\\Python311\\Lib\\http\\client.py\", line 990, in send\n",
      "    self.connect()\n",
      "  File \"C:\\Users\\Lenovo\\AppData\\Local\\Programs\\Python\\Python311\\Lib\\http\\client.py\", line 1470, in connect\n",
      "    self.sock = self._context.wrap_socket(self.sock,\n",
      "                ^^^^^^^^^^^^^^^^^^^^^^^^^^^^^^^^^^^^\n",
      "  File \"C:\\Users\\Lenovo\\AppData\\Local\\Programs\\Python\\Python311\\Lib\\ssl.py\", line 517, in wrap_socket\n",
      "    return self.sslsocket_class._create(\n",
      "           ^^^^^^^^^^^^^^^^^^^^^^^^^^^^^\n",
      "  File \"C:\\Users\\Lenovo\\AppData\\Local\\Programs\\Python\\Python311\\Lib\\ssl.py\", line 1104, in _create\n",
      "    self.do_handshake()\n",
      "  File \"C:\\Users\\Lenovo\\AppData\\Local\\Programs\\Python\\Python311\\Lib\\ssl.py\", line 1382, in do_handshake\n",
      "    self._sslobj.do_handshake()\n",
      "TimeoutError: _ssl.c:989: The handshake operation timed out\n",
      "\n",
      "During handling of the above exception, another exception occurred:\n",
      "\n",
      "Traceback (most recent call last):\n",
      "  File \"c:\\Users\\Lenovo\\Desktop\\data-screening-exercise\\venv\\Lib\\site-packages\\geopy\\adapters.py\", line 298, in get_text\n",
      "    page = self.urlopen(req, timeout=timeout)\n",
      "           ^^^^^^^^^^^^^^^^^^^^^^^^^^^^^^^^^^\n",
      "  File \"C:\\Users\\Lenovo\\AppData\\Local\\Programs\\Python\\Python311\\Lib\\urllib\\request.py\", line 519, in open\n",
      "    response = self._open(req, data)\n",
      "               ^^^^^^^^^^^^^^^^^^^^^\n",
      "  File \"C:\\Users\\Lenovo\\AppData\\Local\\Programs\\Python\\Python311\\Lib\\urllib\\request.py\", line 536, in _open\n",
      "    result = self._call_chain(self.handle_open, protocol, protocol +\n",
      "             ^^^^^^^^^^^^^^^^^^^^^^^^^^^^^^^^^^^^^^^^^^^^^^^^^^^^^^^\n",
      "  File \"C:\\Users\\Lenovo\\AppData\\Local\\Programs\\Python\\Python311\\Lib\\urllib\\request.py\", line 496, in _call_chain\n",
      "    result = func(*args)\n",
      "             ^^^^^^^^^^^\n",
      "  File \"C:\\Users\\Lenovo\\AppData\\Local\\Programs\\Python\\Python311\\Lib\\urllib\\request.py\", line 1391, in https_open\n",
      "    return self.do_open(http.client.HTTPSConnection, req,\n",
      "           ^^^^^^^^^^^^^^^^^^^^^^^^^^^^^^^^^^^^^^^^^^^^^^\n",
      "  File \"C:\\Users\\Lenovo\\AppData\\Local\\Programs\\Python\\Python311\\Lib\\urllib\\request.py\", line 1351, in do_open\n",
      "    raise URLError(err)\n",
      "urllib.error.URLError: <urlopen error _ssl.c:989: The handshake operation timed out>\n",
      "\n",
      "During handling of the above exception, another exception occurred:\n",
      "\n",
      "Traceback (most recent call last):\n",
      "  File \"c:\\Users\\Lenovo\\Desktop\\data-screening-exercise\\venv\\Lib\\site-packages\\geopy\\extra\\rate_limiter.py\", line 136, in _retries_gen\n",
      "    yield i  # Run the function.\n",
      "    ^^^^^^^\n",
      "  File \"c:\\Users\\Lenovo\\Desktop\\data-screening-exercise\\venv\\Lib\\site-packages\\geopy\\extra\\rate_limiter.py\", line 274, in __call__\n",
      "    res = self.func(*args, **kwargs)\n",
      "          ^^^^^^^^^^^^^^^^^^^^^^^^^^\n",
      "  File \"c:\\Users\\Lenovo\\Desktop\\data-screening-exercise\\venv\\Lib\\site-packages\\geopy\\geocoders\\nominatim.py\", line 297, in geocode\n",
      "    return self._call_geocoder(url, callback, timeout=timeout)\n",
      "           ^^^^^^^^^^^^^^^^^^^^^^^^^^^^^^^^^^^^^^^^^^^^^^^^^^^\n",
      "  File \"c:\\Users\\Lenovo\\Desktop\\data-screening-exercise\\venv\\Lib\\site-packages\\geopy\\geocoders\\base.py\", line 368, in _call_geocoder\n",
      "    result = self.adapter.get_json(url, timeout=timeout, headers=req_headers)\n",
      "             ^^^^^^^^^^^^^^^^^^^^^^^^^^^^^^^^^^^^^^^^^^^^^^^^^^^^^^^^^^^^^^^^\n",
      "  File \"c:\\Users\\Lenovo\\Desktop\\data-screening-exercise\\venv\\Lib\\site-packages\\geopy\\adapters.py\", line 287, in get_json\n",
      "    text = self.get_text(url, timeout=timeout, headers=headers)\n",
      "           ^^^^^^^^^^^^^^^^^^^^^^^^^^^^^^^^^^^^^^^^^^^^^^^^^^^^\n",
      "  File \"c:\\Users\\Lenovo\\Desktop\\data-screening-exercise\\venv\\Lib\\site-packages\\geopy\\adapters.py\", line 316, in get_text\n",
      "    raise GeocoderTimedOut(\"Service timed out\")\n",
      "geopy.exc.GeocoderTimedOut: Service timed out\n"
     ]
    },
    {
     "data": {
      "text/plain": [
       "'Georgia'"
      ]
     },
     "execution_count": 58,
     "metadata": {},
     "output_type": "execute_result"
    }
   ],
   "source": [
    "get_state_from_city('ATLANTA').strip()"
   ]
  },
  {
   "cell_type": "code",
   "execution_count": 59,
   "metadata": {},
   "outputs": [],
   "source": [
    "# US states full name to abbreviation mapping\n",
    "us_state_abbrev = {\n",
    "    'Alabama': 'AL',\n",
    "    'Alaska': 'AK',\n",
    "    'Arizona': 'AZ',\n",
    "    'Arkansas': 'AR',\n",
    "    'California': 'CA',\n",
    "    'Colorado': 'CO',\n",
    "    'Connecticut': 'CT',\n",
    "    'Delaware': 'DE',\n",
    "    'Florida': 'FL',\n",
    "    'Georgia': 'GA',\n",
    "    'Hawaii': 'HI',\n",
    "    'Idaho': 'ID',\n",
    "    'Illinois': 'IL',\n",
    "    'Indiana': 'IN',\n",
    "    'Iowa': 'IA',\n",
    "    'Kansas': 'KS',\n",
    "    'Kentucky': 'KY',\n",
    "    'Louisiana': 'LA',\n",
    "    'Maine': 'ME',\n",
    "    'Maryland': 'MD',\n",
    "    'Massachusetts': 'MA',\n",
    "    'Michigan': 'MI',\n",
    "    'Minnesota': 'MN',\n",
    "    'Mississippi': 'MS',\n",
    "    'Missouri': 'MO',\n",
    "    'Montana': 'MT',\n",
    "    'Nebraska': 'NE',\n",
    "    'Nevada': 'NV',\n",
    "    'New Hampshire': 'NH',\n",
    "    'New Jersey': 'NJ',\n",
    "    'New Mexico': 'NM',\n",
    "    'New York': 'NY',\n",
    "    'North Carolina': 'NC',\n",
    "    'North Dakota': 'ND',\n",
    "    'Ohio': 'OH',\n",
    "    'Oklahoma': 'OK',\n",
    "    'Oregon': 'OR',\n",
    "    'Pennsylvania': 'PA',\n",
    "    'Rhode Island': 'RI',\n",
    "    'South Carolina': 'SC',\n",
    "    'South Dakota': 'SD',\n",
    "    'Tennessee': 'TN',\n",
    "    'Texas': 'TX',\n",
    "    'Utah': 'UT',\n",
    "    'Vermont': 'VT',\n",
    "    'Virginia': 'VA',\n",
    "    'Washington': 'WA',\n",
    "    'West Virginia': 'WV',\n",
    "    'Wisconsin': 'WI',\n",
    "    'Wyoming': 'WY',\n",
    "    'District of Columbia': 'DC'\n",
    "}\n"
   ]
  },
  {
   "cell_type": "code",
   "execution_count": 60,
   "metadata": {},
   "outputs": [],
   "source": [
    "# Function to map to the abbreation form\n",
    "def extract_state_abbr_from_address(full_address):\n",
    "    return us_state_abbrev.get(full_address, np.nan)"
   ]
  },
  {
   "cell_type": "code",
   "execution_count": 61,
   "metadata": {},
   "outputs": [
    {
     "data": {
      "text/plain": [
       "'GA'"
      ]
     },
     "execution_count": 61,
     "metadata": {},
     "output_type": "execute_result"
    }
   ],
   "source": [
    "extract_state_abbr_from_address(get_state_from_city('ATLANTA').strip())"
   ]
  },
  {
   "cell_type": "code",
   "execution_count": 62,
   "metadata": {},
   "outputs": [],
   "source": [
    "# Function to apply to null state values\n",
    "def fill_state(row):\n",
    "    if pd.isnull(row['State']):\n",
    "        state_name = get_state_from_city(row['City']).strip()\n",
    "        if state_name != \"Unknown\":\n",
    "            return extract_state_abbr_from_address(state_name)\n",
    "    return row['State']\n",
    "\n",
    "# Apply the function only to rows where 'state' is null\n",
    "df['State'] = df.apply(fill_state, axis=1)"
   ]
  },
  {
   "cell_type": "code",
   "execution_count": 63,
   "metadata": {},
   "outputs": [
    {
     "data": {
      "text/plain": [
       "np.int64(0)"
      ]
     },
     "execution_count": 63,
     "metadata": {},
     "output_type": "execute_result"
    }
   ],
   "source": [
    "df['State'].isnull().sum()"
   ]
  },
  {
   "cell_type": "code",
   "execution_count": 64,
   "metadata": {},
   "outputs": [
    {
     "data": {
      "text/html": [
       "<div>\n",
       "<style scoped>\n",
       "    .dataframe tbody tr th:only-of-type {\n",
       "        vertical-align: middle;\n",
       "    }\n",
       "\n",
       "    .dataframe tbody tr th {\n",
       "        vertical-align: top;\n",
       "    }\n",
       "\n",
       "    .dataframe thead th {\n",
       "        text-align: right;\n",
       "    }\n",
       "</style>\n",
       "<table border=\"1\" class=\"dataframe\">\n",
       "  <thead>\n",
       "    <tr style=\"text-align: right;\">\n",
       "      <th></th>\n",
       "      <th>Name</th>\n",
       "      <th>City</th>\n",
       "      <th>State</th>\n",
       "      <th>Level A</th>\n",
       "      <th>Level B</th>\n",
       "      <th>Level C</th>\n",
       "      <th>Level D</th>\n",
       "      <th>Last Inspection End Date</th>\n",
       "    </tr>\n",
       "  </thead>\n",
       "  <tbody>\n",
       "    <tr>\n",
       "      <th>6</th>\n",
       "      <td>ATLANTA US PEN</td>\n",
       "      <td>ATLANTA</td>\n",
       "      <td>GA</td>\n",
       "      <td>17.341317</td>\n",
       "      <td>3.610778</td>\n",
       "      <td>3.053892</td>\n",
       "      <td>2.724551</td>\n",
       "      <td>NaT</td>\n",
       "    </tr>\n",
       "  </tbody>\n",
       "</table>\n",
       "</div>"
      ],
      "text/plain": [
       "             Name     City State    Level A   Level B   Level C   Level D  \\\n",
       "6  ATLANTA US PEN  ATLANTA    GA  17.341317  3.610778  3.053892  2.724551   \n",
       "\n",
       "  Last Inspection End Date  \n",
       "6                      NaT  "
      ]
     },
     "execution_count": 64,
     "metadata": {},
     "output_type": "execute_result"
    }
   ],
   "source": [
    "df[df['City']=='ATLANTA']"
   ]
  },
  {
   "cell_type": "code",
   "execution_count": 65,
   "metadata": {},
   "outputs": [
    {
     "data": {
      "text/html": [
       "<div>\n",
       "<style scoped>\n",
       "    .dataframe tbody tr th:only-of-type {\n",
       "        vertical-align: middle;\n",
       "    }\n",
       "\n",
       "    .dataframe tbody tr th {\n",
       "        vertical-align: top;\n",
       "    }\n",
       "\n",
       "    .dataframe thead th {\n",
       "        text-align: right;\n",
       "    }\n",
       "</style>\n",
       "<table border=\"1\" class=\"dataframe\">\n",
       "  <thead>\n",
       "    <tr style=\"text-align: right;\">\n",
       "      <th></th>\n",
       "      <th>Name</th>\n",
       "      <th>City</th>\n",
       "      <th>State</th>\n",
       "      <th>Level A</th>\n",
       "      <th>Level B</th>\n",
       "      <th>Level C</th>\n",
       "      <th>Level D</th>\n",
       "      <th>Last Inspection End Date</th>\n",
       "    </tr>\n",
       "  </thead>\n",
       "  <tbody>\n",
       "    <tr>\n",
       "      <th>71</th>\n",
       "      <td>LA SALLE COUNTY REGIONAL DETENTION CENTER</td>\n",
       "      <td>ENCINAL</td>\n",
       "      <td>TX</td>\n",
       "      <td>8.91018</td>\n",
       "      <td>0.706587</td>\n",
       "      <td>0.0</td>\n",
       "      <td>0.0719</td>\n",
       "      <td>2025-02-07</td>\n",
       "    </tr>\n",
       "  </tbody>\n",
       "</table>\n",
       "</div>"
      ],
      "text/plain": [
       "                                         Name     City State  Level A  \\\n",
       "71  LA SALLE COUNTY REGIONAL DETENTION CENTER  ENCINAL    TX  8.91018   \n",
       "\n",
       "     Level B  Level C  Level D Last Inspection End Date  \n",
       "71  0.706587      0.0   0.0719               2025-02-07  "
      ]
     },
     "execution_count": 65,
     "metadata": {},
     "output_type": "execute_result"
    }
   ],
   "source": [
    "df[df['City']=='ENCINAL']"
   ]
  },
  {
   "cell_type": "markdown",
   "metadata": {},
   "source": [
    "#### Checking City Columns"
   ]
  },
  {
   "cell_type": "code",
   "execution_count": 68,
   "metadata": {},
   "outputs": [
    {
     "data": {
      "text/plain": [
       "np.int64(1)"
      ]
     },
     "execution_count": 68,
     "metadata": {},
     "output_type": "execute_result"
    }
   ],
   "source": [
    "# Replace 'N/A', 'NA', and blanks with proper NaN\n",
    "df['City'] = df['City'].replace(\n",
    "    ['N/A', 'NA', ' ', ''], pd.NA\n",
    ")\n",
    "\n",
    "df.City.isnull().sum()"
   ]
  },
  {
   "cell_type": "code",
   "execution_count": 66,
   "metadata": {},
   "outputs": [
    {
     "data": {
      "text/plain": [
       "np.int64(0)"
      ]
     },
     "execution_count": 66,
     "metadata": {},
     "output_type": "execute_result"
    }
   ],
   "source": [
    "df.City.isnull().sum()"
   ]
  },
  {
   "cell_type": "code",
   "execution_count": 69,
   "metadata": {},
   "outputs": [],
   "source": [
    "# Now remove rows where City is null\n",
    "df = df.dropna(subset=['City'])"
   ]
  },
  {
   "cell_type": "code",
   "execution_count": 70,
   "metadata": {},
   "outputs": [
    {
     "data": {
      "text/plain": [
       "Name                        131\n",
       "City                        131\n",
       "State                       131\n",
       "Level A                     131\n",
       "Level B                     131\n",
       "Level C                     131\n",
       "Level D                     131\n",
       "Last Inspection End Date    113\n",
       "dtype: int64"
      ]
     },
     "execution_count": 70,
     "metadata": {},
     "output_type": "execute_result"
    }
   ],
   "source": [
    "df.count()"
   ]
  },
  {
   "cell_type": "markdown",
   "metadata": {},
   "source": [
    "#### Checking the Cleaned data frame"
   ]
  },
  {
   "cell_type": "code",
   "execution_count": 71,
   "metadata": {},
   "outputs": [
    {
     "data": {
      "text/html": [
       "<div>\n",
       "<style scoped>\n",
       "    .dataframe tbody tr th:only-of-type {\n",
       "        vertical-align: middle;\n",
       "    }\n",
       "\n",
       "    .dataframe tbody tr th {\n",
       "        vertical-align: top;\n",
       "    }\n",
       "\n",
       "    .dataframe thead th {\n",
       "        text-align: right;\n",
       "    }\n",
       "</style>\n",
       "<table border=\"1\" class=\"dataframe\">\n",
       "  <thead>\n",
       "    <tr style=\"text-align: right;\">\n",
       "      <th></th>\n",
       "      <th>Level A</th>\n",
       "      <th>Level B</th>\n",
       "      <th>Level C</th>\n",
       "      <th>Level D</th>\n",
       "      <th>Last Inspection End Date</th>\n",
       "    </tr>\n",
       "  </thead>\n",
       "  <tbody>\n",
       "    <tr>\n",
       "      <th>count</th>\n",
       "      <td>131.000000</td>\n",
       "      <td>131.000000</td>\n",
       "      <td>131.000000</td>\n",
       "      <td>131.000000</td>\n",
       "      <td>113</td>\n",
       "    </tr>\n",
       "    <tr>\n",
       "      <th>mean</th>\n",
       "      <td>186.810760</td>\n",
       "      <td>40.864469</td>\n",
       "      <td>45.272478</td>\n",
       "      <td>34.404947</td>\n",
       "      <td>2024-09-24 06:09:33.451327488</td>\n",
       "    </tr>\n",
       "    <tr>\n",
       "      <th>min</th>\n",
       "      <td>0.000000</td>\n",
       "      <td>0.000000</td>\n",
       "      <td>0.000000</td>\n",
       "      <td>0.000000</td>\n",
       "      <td>2021-04-02 00:00:00</td>\n",
       "    </tr>\n",
       "    <tr>\n",
       "      <th>25%</th>\n",
       "      <td>2.125749</td>\n",
       "      <td>1.613772</td>\n",
       "      <td>1.221557</td>\n",
       "      <td>0.685629</td>\n",
       "      <td>2024-08-15 00:00:00</td>\n",
       "    </tr>\n",
       "    <tr>\n",
       "      <th>50%</th>\n",
       "      <td>17.017964</td>\n",
       "      <td>8.371257</td>\n",
       "      <td>6.880240</td>\n",
       "      <td>4.940120</td>\n",
       "      <td>2024-10-31 00:00:00</td>\n",
       "    </tr>\n",
       "    <tr>\n",
       "      <th>75%</th>\n",
       "      <td>222.790419</td>\n",
       "      <td>39.631737</td>\n",
       "      <td>38.997006</td>\n",
       "      <td>35.452096</td>\n",
       "      <td>2025-01-16 00:00:00</td>\n",
       "    </tr>\n",
       "    <tr>\n",
       "      <th>max</th>\n",
       "      <td>1876.461078</td>\n",
       "      <td>561.425150</td>\n",
       "      <td>542.275449</td>\n",
       "      <td>402.059880</td>\n",
       "      <td>2025-03-13 00:00:00</td>\n",
       "    </tr>\n",
       "    <tr>\n",
       "      <th>std</th>\n",
       "      <td>320.650168</td>\n",
       "      <td>79.973686</td>\n",
       "      <td>85.286985</td>\n",
       "      <td>65.432270</td>\n",
       "      <td>NaN</td>\n",
       "    </tr>\n",
       "  </tbody>\n",
       "</table>\n",
       "</div>"
      ],
      "text/plain": [
       "           Level A     Level B     Level C     Level D  \\\n",
       "count   131.000000  131.000000  131.000000  131.000000   \n",
       "mean    186.810760   40.864469   45.272478   34.404947   \n",
       "min       0.000000    0.000000    0.000000    0.000000   \n",
       "25%       2.125749    1.613772    1.221557    0.685629   \n",
       "50%      17.017964    8.371257    6.880240    4.940120   \n",
       "75%     222.790419   39.631737   38.997006   35.452096   \n",
       "max    1876.461078  561.425150  542.275449  402.059880   \n",
       "std     320.650168   79.973686   85.286985   65.432270   \n",
       "\n",
       "            Last Inspection End Date  \n",
       "count                            113  \n",
       "mean   2024-09-24 06:09:33.451327488  \n",
       "min              2021-04-02 00:00:00  \n",
       "25%              2024-08-15 00:00:00  \n",
       "50%              2024-10-31 00:00:00  \n",
       "75%              2025-01-16 00:00:00  \n",
       "max              2025-03-13 00:00:00  \n",
       "std                              NaN  "
      ]
     },
     "execution_count": 71,
     "metadata": {},
     "output_type": "execute_result"
    }
   ],
   "source": [
    "df.describe()"
   ]
  },
  {
   "cell_type": "code",
   "execution_count": 72,
   "metadata": {},
   "outputs": [
    {
     "data": {
      "text/html": [
       "<div>\n",
       "<style scoped>\n",
       "    .dataframe tbody tr th:only-of-type {\n",
       "        vertical-align: middle;\n",
       "    }\n",
       "\n",
       "    .dataframe tbody tr th {\n",
       "        vertical-align: top;\n",
       "    }\n",
       "\n",
       "    .dataframe thead th {\n",
       "        text-align: right;\n",
       "    }\n",
       "</style>\n",
       "<table border=\"1\" class=\"dataframe\">\n",
       "  <thead>\n",
       "    <tr style=\"text-align: right;\">\n",
       "      <th></th>\n",
       "      <th>Name</th>\n",
       "      <th>City</th>\n",
       "      <th>State</th>\n",
       "      <th>Level A</th>\n",
       "      <th>Level B</th>\n",
       "      <th>Level C</th>\n",
       "      <th>Level D</th>\n",
       "      <th>Last Inspection End Date</th>\n",
       "    </tr>\n",
       "  </thead>\n",
       "  <tbody>\n",
       "    <tr>\n",
       "      <th>0</th>\n",
       "      <td>ADAMS COUNTY DET CENTER</td>\n",
       "      <td>NATCHEZ</td>\n",
       "      <td>MS</td>\n",
       "      <td>1876.461078</td>\n",
       "      <td>266.431138</td>\n",
       "      <td>6.724551</td>\n",
       "      <td>4.257485</td>\n",
       "      <td>2025-01-16</td>\n",
       "    </tr>\n",
       "    <tr>\n",
       "      <th>1</th>\n",
       "      <td>ADELANTO ICE PROCESSING CENTER</td>\n",
       "      <td>ADELANTO</td>\n",
       "      <td>CA</td>\n",
       "      <td>6.401198</td>\n",
       "      <td>4.323353</td>\n",
       "      <td>22.604790</td>\n",
       "      <td>32.634731</td>\n",
       "      <td>2024-07-18</td>\n",
       "    </tr>\n",
       "    <tr>\n",
       "      <th>2</th>\n",
       "      <td>ALAMANCE COUNTY DETENTION FACILITY</td>\n",
       "      <td>GRAHAM</td>\n",
       "      <td>NC</td>\n",
       "      <td>4.329341</td>\n",
       "      <td>3.461078</td>\n",
       "      <td>6.083832</td>\n",
       "      <td>6.185629</td>\n",
       "      <td>2024-09-19</td>\n",
       "    </tr>\n",
       "    <tr>\n",
       "      <th>3</th>\n",
       "      <td>ALEXANDRIA STAGING FACILITY</td>\n",
       "      <td>ALEXANDRIA</td>\n",
       "      <td>LA</td>\n",
       "      <td>137.520958</td>\n",
       "      <td>47.413174</td>\n",
       "      <td>76.005988</td>\n",
       "      <td>52.485030</td>\n",
       "      <td>2024-08-29</td>\n",
       "    </tr>\n",
       "    <tr>\n",
       "      <th>4</th>\n",
       "      <td>ALLEGANY COUNTY JAIL</td>\n",
       "      <td>BELMONT</td>\n",
       "      <td>NY</td>\n",
       "      <td>1.221557</td>\n",
       "      <td>0.018000</td>\n",
       "      <td>0.000000</td>\n",
       "      <td>0.000000</td>\n",
       "      <td>NaT</td>\n",
       "    </tr>\n",
       "  </tbody>\n",
       "</table>\n",
       "</div>"
      ],
      "text/plain": [
       "                                 Name        City State      Level A  \\\n",
       "0             ADAMS COUNTY DET CENTER     NATCHEZ    MS  1876.461078   \n",
       "1      ADELANTO ICE PROCESSING CENTER    ADELANTO    CA     6.401198   \n",
       "2  ALAMANCE COUNTY DETENTION FACILITY      GRAHAM    NC     4.329341   \n",
       "3         ALEXANDRIA STAGING FACILITY  ALEXANDRIA    LA   137.520958   \n",
       "4                ALLEGANY COUNTY JAIL     BELMONT    NY     1.221557   \n",
       "\n",
       "      Level B    Level C    Level D Last Inspection End Date  \n",
       "0  266.431138   6.724551   4.257485               2025-01-16  \n",
       "1    4.323353  22.604790  32.634731               2024-07-18  \n",
       "2    3.461078   6.083832   6.185629               2024-09-19  \n",
       "3   47.413174  76.005988  52.485030               2024-08-29  \n",
       "4    0.018000   0.000000   0.000000                      NaT  "
      ]
     },
     "execution_count": 72,
     "metadata": {},
     "output_type": "execute_result"
    }
   ],
   "source": [
    "df.head()"
   ]
  },
  {
   "cell_type": "code",
   "execution_count": 73,
   "metadata": {},
   "outputs": [],
   "source": [
    "# saving the cleaned data frame\n",
    "df.to_csv('../cleaned_ice_detention.csv',encoding='utf-8')"
   ]
  },
  {
   "cell_type": "code",
   "execution_count": null,
   "metadata": {},
   "outputs": [],
   "source": []
  }
 ],
 "metadata": {
  "kernelspec": {
   "display_name": "venv",
   "language": "python",
   "name": "python3"
  },
  "language_info": {
   "codemirror_mode": {
    "name": "ipython",
    "version": 3
   },
   "file_extension": ".py",
   "mimetype": "text/x-python",
   "name": "python",
   "nbconvert_exporter": "python",
   "pygments_lexer": "ipython3",
   "version": "3.11.8"
  }
 },
 "nbformat": 4,
 "nbformat_minor": 2
}
